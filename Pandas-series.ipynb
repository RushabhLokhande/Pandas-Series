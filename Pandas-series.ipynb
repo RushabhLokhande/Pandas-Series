{
 "cells": [
  {
   "cell_type": "code",
   "execution_count": 1,
   "metadata": {},
   "outputs": [
    {
     "name": "stdout",
     "output_type": "stream",
     "text": [
      "0       html\n",
      "1        css\n",
      "2    android\n",
      "3       java\n",
      "4     python\n",
      "5     kotlin\n",
      "dtype: object\n"
     ]
    }
   ],
   "source": [
    "import pandas as pd\n",
    "import numpy as np\n",
    "\n",
    "i = np.array(['html','css','android','java','python','kotlin'])\n",
    "\n",
    "j = pd.Series(i)\n",
    "\n",
    "print(j)"
   ]
  },
  {
   "cell_type": "code",
   "execution_count": 2,
   "metadata": {},
   "outputs": [
    {
     "name": "stdout",
     "output_type": "stream",
     "text": [
      "         0\n",
      "0  android\n",
      "1     java\n",
      "2   kotlin\n",
      "3     html\n",
      "4      css\n"
     ]
    }
   ],
   "source": [
    "import pandas as pd\n",
    "\n",
    "i = ['android', 'java', 'kotlin', 'html', 'css']\n",
    "df = pd.DataFrame(i)\n",
    "print(df)"
   ]
  },
  {
   "cell_type": "code",
   "execution_count": 3,
   "metadata": {},
   "outputs": [
    {
     "name": "stdout",
     "output_type": "stream",
     "text": [
      "0        10\n",
      "1        20\n",
      "2        30\n",
      "3        40\n",
      "4        50\n",
      "5     data1\n",
      "6     date2\n",
      "7     data3\n",
      "8    10.201\n",
      "dtype: object\n"
     ]
    }
   ],
   "source": [
    "import pandas as pd\n",
    "import numpy as np\n",
    "i = np.array([10,20,30,40,50,'data1', 'date2', 'data3', 10.201])\n",
    "j = pd.Series(i)\n",
    "print(j)"
   ]
  },
  {
   "cell_type": "code",
   "execution_count": 4,
   "metadata": {},
   "outputs": [
    {
     "name": "stdout",
     "output_type": "stream",
     "text": [
      "a    100\n",
      "b    200\n",
      "c    300\n",
      "d     50\n",
      "dtype: int64\n"
     ]
    }
   ],
   "source": [
    "import pandas as pd\n",
    "import numpy as np\n",
    "\n",
    "i = {'a' : 100, 'b' : 200, 'c' : 300, 'd' : 50}\n",
    "j = pd.Series(i)\n",
    "print(j)"
   ]
  },
  {
   "cell_type": "code",
   "execution_count": 5,
   "metadata": {},
   "outputs": [
    {
     "name": "stdout",
     "output_type": "stream",
     "text": [
      "0    John\n",
      "1    John\n",
      "2    John\n",
      "3    John\n",
      "4    John\n",
      "5    John\n",
      "6    John\n",
      "dtype: object\n"
     ]
    }
   ],
   "source": [
    "import pandas as pd\n",
    "import numpy as np\n",
    "\n",
    "i = pd.Series('John', index=[0, 1, 2, 3, 4, 5, 6])\n",
    "print (i)"
   ]
  },
  {
   "cell_type": "code",
   "execution_count": 6,
   "metadata": {},
   "outputs": [
    {
     "name": "stdout",
     "output_type": "stream",
     "text": [
      "0       html\n",
      "1        css\n",
      "2    android\n",
      "3       html\n",
      "4        css\n",
      "5    android\n",
      "dtype: object\n"
     ]
    }
   ],
   "source": [
    "import pandas as pd\n",
    "import numpy as np\n",
    "\n",
    "i = pd.Series(['html', 'css', 'android','html', 'css', 'android'],\n",
    "index=[0, 1, 2, 3, 4, 5])\n",
    "print (i)"
   ]
  },
  {
   "cell_type": "code",
   "execution_count": null,
   "metadata": {},
   "outputs": [],
   "source": []
  }
 ],
 "metadata": {
  "kernelspec": {
   "display_name": "Python 3",
   "language": "python",
   "name": "python3"
  },
  "language_info": {
   "codemirror_mode": {
    "name": "ipython",
    "version": 3
   },
   "file_extension": ".py",
   "mimetype": "text/x-python",
   "name": "python",
   "nbconvert_exporter": "python",
   "pygments_lexer": "ipython3",
   "version": "3.8.5"
  }
 },
 "nbformat": 4,
 "nbformat_minor": 4
}
